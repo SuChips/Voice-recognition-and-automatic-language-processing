{
 "cells": [
  {
   "cell_type": "markdown",
   "metadata": {},
   "source": [
    "# Speech recognition for isolated words"
   ]
  },
  {
   "cell_type": "markdown",
   "metadata": {},
   "source": [
    "# Mathematical background"
   ]
  },
  {
   "cell_type": "markdown",
   "metadata": {},
   "source": [
    "## Feature Extraction\n",
    "Feature extraction is the method of transforming the input data into a set of features which represents as closely as possible the input data. Audio feature extraction use Digital Signal Processing techniques to convert the audio signals into numerical feature sets which can then be used for training our machine learning models."
   ]
  },
  {
   "cell_type": "markdown",
   "metadata": {},
   "source": [
    "## MFCC"
   ]
  },
  {
   "cell_type": "markdown",
   "metadata": {},
   "source": [
    "MFCC stands for mel-frequency cepstral coefficients. They were introduced by Davis and Mermelstein in the 1980's. These are the most commonly used features in automatic speech recognition. MFCCs are derived from a type of cepstral representation of the audio clip. A cepstrum is the result of taking the inverse fourier transform of the logarithm of the estimated spectrum of the signal. The power cepstrum in particular finds applications in the analysis of human speech. The main difference between the MFC and cepstrum is that in MFC, equal spacing of the frequency bands takes place which approximates the human auditory system’s response more closely. "
   ]
  },
  {
   "cell_type": "markdown",
   "metadata": {},
   "source": [
    "## Import library"
   ]
  },
  {
   "cell_type": "code",
   "execution_count": 1,
   "metadata": {},
   "outputs": [],
   "source": [
    "import doctest\n",
    "import struct\n",
    "import wave\n",
    "from glob import glob\n",
    "import numpy as np\n",
    "from matplotlib import pyplot as plt\n",
    "from numpy import fft"
   ]
  },
  {
   "cell_type": "markdown",
   "metadata": {},
   "source": [
    "## Useful functions"
   ]
  },
  {
   "cell_type": "code",
   "execution_count": 25,
   "metadata": {},
   "outputs": [],
   "source": [
    "def readwav(fname):\n",
    "    \"\"\"\n",
    "    Parameters\n",
    "    ----------\n",
    "    fname : str\n",
    "        The filename of the wave file to process\n",
    "\n",
    "    Returns\n",
    "    -------\n",
    "    \n",
    "    (x, fs) : tuple\n",
    "    \n",
    "    x : np.array\n",
    "        The 1-dim. PCM audio signal\n",
    "\n",
    "    fs : int\n",
    "        The sampling frequency\n",
    "    \"\"\"\n",
    "    with wave.open(fname) as wav:\n",
    "        n = wav.getnframes()\n",
    "        frames = wav.readframes(n)\n",
    "        x = struct.unpack(\"h\" * n, frames)\n",
    "        fs = wav.getframerate()\n",
    "    return np.array(x), fs"
   ]
  },
  {
   "cell_type": "markdown",
   "metadata": {},
   "source": [
    "Test the readwav fonction"
   ]
  },
  {
   "cell_type": "code",
   "execution_count": 26,
   "metadata": {},
   "outputs": [
    {
     "name": "stdout",
     "output_type": "stream",
     "text": [
      "6964\n",
      "8.0\n"
     ]
    }
   ],
   "source": [
    "test=readwav(\"digits/train/ae_1a.wav\")\n",
    "fs=test[-1]\n",
    "print(len(test[0]))\n",
    "print(fs*0.001)"
   ]
  },
  {
   "cell_type": "markdown",
   "metadata": {},
   "source": [
    "Mel Scale: Corresponds to an approximation of the psychological sensation of pitch of a sound."
   ]
  },
  {
   "cell_type": "markdown",
   "metadata": {},
   "source": [
    "Hertz to mel conversion is computed according to:"
   ]
  },
  {
   "cell_type": "code",
   "execution_count": 69,
   "metadata": {},
   "outputs": [],
   "source": [
    "def mel(f):\n",
    "    \"\"\"\n",
    "    Frequency converter from Hz to Mel\n",
    "\n",
    "    Parameters\n",
    "    ----------\n",
    "    f : int, float or np.array\n",
    "        The frequency (Hz)\n",
    "\n",
    "    Returns\n",
    "    -------\n",
    "    mel : float or np.array\n",
    "        The frequency (Mel)\n",
    "\n",
    "    Examples\n",
    "    --------\n",
    "    >>> x = np.linspace(200, 4000, 20)\n",
    "    >>> with np.printoptions(precision=2):\n",
    "    ...     print(mel(x))\n",
    "    [  283.23  509.38  697.65  858.93  999.99 1125.34 ... 2146.06]\n",
    "    \"\"\"\n",
    " \n",
    "    return 2595*np.log10(1+f/700)\n",
    "\n",
    "\n",
    "def hertz(m):\n",
    "    \"\"\"\n",
    "    Frequency converter from Mel to Hz\n",
    "\n",
    "    Parameters\n",
    "    ----------\n",
    "    mel : int, float or np.array\n",
    "        The frequency (Mel)\n",
    "\n",
    "    Returns\n",
    "    -------\n",
    "    f : float or np.array\n",
    "        The frequency (Hz)\n",
    "\n",
    "    Examples\n",
    "    --------\n",
    "    >>> x = np.linspace(200, 2000, 20)\n",
    "    >>> with np.printoptions(precision=2):\n",
    "    ...     print(hertz(x))\n",
    "    [  135.93  209.24  288.97  375.7   470.04  572.64 ... 3428.68]\n",
    "    \"\"\"\n",
    "    return 700 * (10**(m/2595)-1)"
   ]
  },
  {
   "cell_type": "markdown",
   "metadata": {},
   "source": [
    "Test the convertion"
   ]
  },
  {
   "cell_type": "code",
   "execution_count": 70,
   "metadata": {},
   "outputs": [
    {
     "name": "stdout",
     "output_type": "stream",
     "text": [
      "Frequency converter from Hz to Mel \n",
      "\n",
      "[ 283.23  509.38  697.65  858.93  999.99 1125.34 1238.13 1340.65 1434.62\n",
      " 1521.36 1601.89 1677.05 1747.51 1813.83 1876.45 1935.78 1992.14 2045.82\n",
      " 2097.06 2146.06]\n",
      "\n",
      "\n",
      "Frequency converter from Mel to Hz \n",
      "\n",
      "[ 135.93  209.24  288.97  375.7   470.04  572.64  684.25  805.64  937.68\n",
      " 1081.3  1237.51 1407.42 1592.23 1793.25 2011.9  2249.72 2508.4  2789.76\n",
      " 3095.8  3428.68]\n"
     ]
    }
   ],
   "source": [
    "x1 = np.linspace(200, 4000, 20)\n",
    "x2 = np.linspace(200, 2000, 20)\n",
    "print('Frequency converter from Hz to Mel \\n')\n",
    "with np.printoptions(precision=2):\n",
    "        print(mel(x1))\n",
    "print('\\n')\n",
    "print('Frequency converter from Mel to Hz \\n')\n",
    "with np.printoptions(precision=2):\n",
    "        print(hertz(x2))        "
   ]
  },
  {
   "cell_type": "code",
   "execution_count": 68,
   "metadata": {},
   "outputs": [],
   "source": [
    "def melbank(nfilt, win_n, fs):\n",
    "    \"\"\"\n",
    "    Computing of the MFCC coefficients of a whole wave file\n",
    "\n",
    "    Parameters\n",
    "    ----------\n",
    "    nfilt : int\n",
    "        The number of melbank filters\n",
    "\n",
    "    win_n : int\n",
    "        The window size (in samples)\n",
    "\n",
    "    fs : int\n",
    "        The sampling frequency (Hz)\n",
    "\n",
    "    Returns\n",
    "    -------\n",
    "    melb : np.array\n",
    "        The 2-dim. (nfilt, win_n/2+1) mel-bank filters\n",
    "\n",
    "    Examples\n",
    "    --------\n",
    "    >>> melb = melbank(nfilt=24, win_n=256, fs=8000)\n",
    "    >>> melb.shape\n",
    "    (24, 129)\n",
    "    >>> with np.printoptions(precision=2, suppress=True, edgeitems=6):\n",
    "    ...     print(melb)\n",
    "    [[0.   1.   0.5  0.   0.   0.   ... 0.   0.   0.   0.   0.   0.  ]\n",
    "     [0.   0.   0.5  1.   0.5  0.   ... 0.   0.   0.   0.   0.   0.  ]\n",
    "     [0.   0.   0.   0.   0.5  1.   ... 0.   0.   0.   0.   0.   0.  ]\n",
    "     [0.   0.   0.   0.   0.   0.   ... 0.   0.   0.   0.   0.   0.  ]\n",
    "     [0.   0.   0.   0.   0.   0.   ... 0.   0.   0.   0.   0.   0.  ]\n",
    "     [0.   0.   0.   0.   0.   0.   ... 0.   0.   0.   0.   0.   0.  ]\n",
    "     ...\n",
    "     [0.   0.   0.   0.   0.   0.   ... 0.   0.   0.   0.   0.   0.  ]\n",
    "     [0.   0.   0.   0.   0.   0.   ... 0.   0.   0.   0.   0.   0.  ]\n",
    "     [0.   0.   0.   0.   0.   0.   ... 0.   0.   0.   0.   0.   0.  ]\n",
    "     [0.   0.   0.   0.   0.   0.   ... 0.   0.   0.   0.   0.   0.  ]\n",
    "     [0.   0.   0.   0.   0.   0.   ... 0.   0.   0.   0.   0.   0.  ]\n",
    "     [0.   0.   0.   0.   0.   0.   ... 0.36 0.27 0.18 0.09 0.   0.  ]]\n",
    "    >>> with np.printoptions(precision=2, suppress=True, edgeitems=6):\n",
    "    ...     print(melb[-1])\n",
    "    [0.   0. ... 0.1  0.2 ... 1.   0.91 0.82 0.73 ... 0.18 0.09 0.   0.  ]\n",
    "    \"\"\"\n",
    "    melb = np.zeros((nfilt, win_n // 2 + 1))\n",
    "    melstep = mel(fs / 2) / (nfilt + 1)\n",
    "\n",
    "    for i in range(nfilt):\n",
    "        left = int(hertz(melstep * i) * win_n / fs)\n",
    "        middle = int(hertz(melstep * (i + 1)) * win_n / fs)\n",
    "        right = int(hertz(melstep * (i + 2)) * win_n / fs)\n",
    "\n",
    "        melb[i, left : middle + 1] = (\n",
    "            np.arange(middle - left + 1) * 1.0 / (middle - left)\n",
    "        )\n",
    "        melb[i, middle : right + 1] = 1.0 - np.arange(\n",
    "            right - middle + 1\n",
    "        ) * 1.0 / (right - middle)\n",
    "\n",
    "    return melb"
   ]
  },
  {
   "cell_type": "code",
   "execution_count": 73,
   "metadata": {},
   "outputs": [
    {
     "data": {
      "text/plain": [
       "(24, 129)"
      ]
     },
     "execution_count": 73,
     "metadata": {},
     "output_type": "execute_result"
    }
   ],
   "source": [
    "melb = melbank(nfilt=24, win_n=256, fs=8000)\n",
    "melb.shape"
   ]
  },
  {
   "cell_type": "code",
   "execution_count": 74,
   "metadata": {},
   "outputs": [
    {
     "name": "stdout",
     "output_type": "stream",
     "text": [
      "[[0.   1.   0.5  0.   0.   0.   ... 0.   0.   0.   0.   0.   0.  ]\n",
      " [0.   0.   0.5  1.   0.5  0.   ... 0.   0.   0.   0.   0.   0.  ]\n",
      " [0.   0.   0.   0.   0.5  1.   ... 0.   0.   0.   0.   0.   0.  ]\n",
      " [0.   0.   0.   0.   0.   0.   ... 0.   0.   0.   0.   0.   0.  ]\n",
      " [0.   0.   0.   0.   0.   0.   ... 0.   0.   0.   0.   0.   0.  ]\n",
      " [0.   0.   0.   0.   0.   0.   ... 0.   0.   0.   0.   0.   0.  ]\n",
      " ...\n",
      " [0.   0.   0.   0.   0.   0.   ... 0.   0.   0.   0.   0.   0.  ]\n",
      " [0.   0.   0.   0.   0.   0.   ... 0.   0.   0.   0.   0.   0.  ]\n",
      " [0.   0.   0.   0.   0.   0.   ... 0.   0.   0.   0.   0.   0.  ]\n",
      " [0.   0.   0.   0.   0.   0.   ... 0.   0.   0.   0.   0.   0.  ]\n",
      " [0.   0.   0.   0.   0.   0.   ... 0.   0.   0.   0.   0.   0.  ]\n",
      " [0.   0.   0.   0.   0.   0.   ... 0.36 0.27 0.18 0.09 0.   0.  ]]\n"
     ]
    }
   ],
   "source": [
    "with np.printoptions(precision=2, suppress=True, edgeitems=6):\n",
    "    print(melb)"
   ]
  },
  {
   "cell_type": "code",
   "execution_count": 6,
   "metadata": {},
   "outputs": [],
   "source": [
    "def mfcc(y, melb, nc):\n",
    "    \"\"\"\n",
    "    Computing of the MFCC coefficients of a single frame\n",
    "\n",
    "    Parameters\n",
    "    ----------\n",
    "    y : np.array\n",
    "        The 1-dim. frame signal\n",
    "\n",
    "    melb: np.array\n",
    "        The 2-dim. mel-bank filters\n",
    "\n",
    "    nc: int\n",
    "        The number of coefficients\n",
    "\n",
    "    Returns\n",
    "    -------\n",
    "    cc : np.array\n",
    "        The 1-dim cepstral coefficients\n",
    "\n",
    "    Examples\n",
    "    --------\n",
    "    >>> int16 = np.iinfo(np.int16)\n",
    "    >>> rng = np.random.default_rng(0)\n",
    "    >>> y = rng.integers(int16.min, int16.max, 256)\n",
    "    >>> melb = melbank(nfilt=24, win_n=256, fs=8000)\n",
    "    >>> cc = mfcc(y, melb, nc=13)\n",
    "    >>> cc.shape\n",
    "    (13,)\n",
    "    \"\"\"\n",
    "    pass"
   ]
  },
  {
   "cell_type": "code",
   "execution_count": 7,
   "metadata": {},
   "outputs": [],
   "source": [
    "def wav2mfcc(fname, nc=13, nfilt=24, win=0.032, step=0.010):\n",
    "    \"\"\"\n",
    "    Computing of the MFCC coefficients of a whole wave file\n",
    "    \n",
    "    Parameters\n",
    "    ----------\n",
    "    fname : str\n",
    "        The filename of the wave file to process\n",
    "    \n",
    "    nc : int\n",
    "        The number of cepstral coefficients\n",
    "        \n",
    "    nfilt : int\n",
    "        The number of melbank filters\n",
    "    \n",
    "    win : int\n",
    "        The window size (s)\n",
    "    \n",
    "    step : int\n",
    "        The step size (s)\n",
    "\n",
    "    Returns\n",
    "    -------\n",
    "    c : np.array\n",
    "        The 2-dim cepstral coefficients of the whole file\n",
    "    \"\"\"\n",
    "    pass"
   ]
  },
  {
   "cell_type": "code",
   "execution_count": 8,
   "metadata": {},
   "outputs": [],
   "source": [
    "def euclid(v1, v2):\n",
    "    \"\"\"    \n",
    "    Computation of the Euclidean distance between the MFCC frames\n",
    "        \n",
    "    Parameters\n",
    "    ----------\n",
    "    v1 : np.array\n",
    "        1-dim. MFCC frame\n",
    "    \n",
    "    v2 : np.array\n",
    "        1-dim. MFCC frame\n",
    "\n",
    "    Returns\n",
    "    -------\n",
    "    dist : int\n",
    "        The Euclidean distance value\n",
    "    \"\"\"\n",
    "    pass"
   ]
  },
  {
   "cell_type": "code",
   "execution_count": 9,
   "metadata": {},
   "outputs": [],
   "source": [
    "def preemph(x, alpha=0.97):\n",
    "    \"\"\"\n",
    "    (Optional)\n",
    "    \n",
    "    Applying the pre-emphasis step to the PCM audio signal:\n",
    "    to decrease high frequency energy\n",
    "        \n",
    "    Parameters\n",
    "    ----------\n",
    "    x : np.array\n",
    "        The 1-dim. PCM audio signal\n",
    "    \n",
    "    alpha : int \n",
    "        The pre-emphasis coefficient\n",
    "\n",
    "    Returns\n",
    "    -------\n",
    "    x_pre : np.array\n",
    "        The 1-dim. filtered audio signal\n",
    "    \"\"\"\n",
    "    pass"
   ]
  },
  {
   "cell_type": "code",
   "execution_count": 10,
   "metadata": {},
   "outputs": [],
   "source": [
    "def dtw(c1, c2):\n",
    "    \"\"\"    \n",
    "    Computation of DTW between MFCC signals\n",
    "        \n",
    "    Parameters\n",
    "    ----------\n",
    "    c1 : np.array\n",
    "        2-dim. MFCC signal\n",
    "    \n",
    "    c1 : np.array\n",
    "        2-dim. MFCC signal\n",
    "\n",
    "    Returns\n",
    "    -------\n",
    "    dist : int\n",
    "        The DTW distance value\n",
    "    \"\"\"\n",
    "    pass"
   ]
  },
  {
   "cell_type": "markdown",
   "metadata": {},
   "source": [
    "The computation script"
   ]
  },
  {
   "cell_type": "code",
   "execution_count": 11,
   "metadata": {},
   "outputs": [],
   "source": [
    "pass"
   ]
  },
  {
   "cell_type": "markdown",
   "metadata": {},
   "source": [
    "---"
   ]
  }
 ],
 "metadata": {
  "kernelspec": {
   "display_name": "Python 3",
   "language": "python",
   "name": "python3"
  },
  "language_info": {
   "codemirror_mode": {
    "name": "ipython",
    "version": 3
   },
   "file_extension": ".py",
   "mimetype": "text/x-python",
   "name": "python",
   "nbconvert_exporter": "python",
   "pygments_lexer": "ipython3",
   "version": "3.7.9"
  }
 },
 "nbformat": 4,
 "nbformat_minor": 4
}
