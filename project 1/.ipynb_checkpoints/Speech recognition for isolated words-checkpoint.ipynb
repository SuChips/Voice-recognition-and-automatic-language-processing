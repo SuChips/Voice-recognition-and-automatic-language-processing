{
 "cells": [
  {
   "cell_type": "code",
   "execution_count": 1,
   "metadata": {},
   "outputs": [],
   "source": [
    "import doctest\n",
    "import struct\n",
    "import wave\n",
    "from glob import glob\n",
    "import numpy as np\n",
    "from matplotlib import pyplot as plt\n",
    "from numpy import fft"
   ]
  },
  {
   "cell_type": "code",
   "execution_count": 25,
   "metadata": {},
   "outputs": [],
   "source": [
    "def readwav(fname):\n",
    "    \"\"\"\n",
    "    Parameters\n",
    "    ----------\n",
    "    fname : str\n",
    "        The filename of the wave file to process\n",
    "\n",
    "    Returns\n",
    "    -------\n",
    "    \n",
    "    (x, fs) : tuple\n",
    "    \n",
    "    x : np.array\n",
    "        The 1-dim. PCM audio signal\n",
    "\n",
    "    fs : int\n",
    "        The sampling frequency\n",
    "    \"\"\"\n",
    "    with wave.open(fname) as wav:\n",
    "        n = wav.getnframes()\n",
    "        frames = wav.readframes(n)\n",
    "        x = struct.unpack(\"h\" * n, frames)\n",
    "        fs = wav.getframerate()\n",
    "    return np.array(x), fs"
   ]
  },
  {
   "cell_type": "markdown",
   "metadata": {},
   "source": [
    "Test the readwav fonction"
   ]
  },
  {
   "cell_type": "code",
   "execution_count": 26,
   "metadata": {},
   "outputs": [
    {
     "name": "stdout",
     "output_type": "stream",
     "text": [
      "6964\n",
      "8.0\n"
     ]
    }
   ],
   "source": [
    "test=readwav(\"digits/train/ae_1a.wav\")\n",
    "fs=test[-1]\n",
    "print(len(test[0]))\n",
    "print(fs*0.001)"
   ]
  },
  {
   "cell_type": "markdown",
   "metadata": {},
   "source": [
    "Hertz to mel conversion is computed according to:"
   ]
  },
  {
   "cell_type": "code",
   "execution_count": 4,
   "metadata": {},
   "outputs": [],
   "source": [
    "def mel(f):\n",
    "    \"\"\"\n",
    "    Frequency converter from Hz to Mel\n",
    "\n",
    "    Parameters\n",
    "    ----------\n",
    "    f : int, float or np.array\n",
    "        The frequency (Hz)\n",
    "\n",
    "    Returns\n",
    "    -------\n",
    "    mel : float or np.array\n",
    "        The frequency (Mel)\n",
    "\n",
    "    Examples\n",
    "    --------\n",
    "    >>> x = np.linspace(200, 4000, 20)\n",
    "    >>> with np.printoptions(precision=2):\n",
    "    ...     print(mel(x))\n",
    "    [  283.23  509.38  697.65  858.93  999.99 1125.34 ... 2146.06]\n",
    "    \"\"\"\n",
    "    mel = 1/log(2) * (log(1 + (f/1000))) * 1000 \n",
    "    return mel\n",
    "\n",
    "\n",
    "def hertz(m):\n",
    "    \"\"\"\n",
    "    Frequency converter from Mel to Hz\n",
    "\n",
    "    Parameters\n",
    "    ----------\n",
    "    mel : int, float or np.array\n",
    "        The frequency (Mel)\n",
    "\n",
    "    Returns\n",
    "    -------\n",
    "    f : float or np.array\n",
    "        The frequency (Hz)\n",
    "\n",
    "    Examples\n",
    "    --------\n",
    "    >>> x = np.linspace(200, 2000, 20)\n",
    "    >>> with np.printoptions(precision=2):\n",
    "    ...     print(hertz(x))\n",
    "    [  135.93  209.24  288.97  375.7   470.04  572.64 ... 3428.68]\n",
    "    \"\"\"\n",
    "    pass"
   ]
  },
  {
   "cell_type": "code",
   "execution_count": 5,
   "metadata": {},
   "outputs": [],
   "source": [
    "def melbank(nfilt, win_n, fs):\n",
    "    \"\"\"\n",
    "    Computing of the MFCC coefficients of a whole wave file\n",
    "    \n",
    "    Parameters\n",
    "    ----------        \n",
    "    nfilt : int\n",
    "        The number of melbank filters\n",
    "    \n",
    "    win_n : int\n",
    "        The window size (in samples)\n",
    "    \n",
    "    fs : int\n",
    "        The sampling frequency (Hz)\n",
    "\n",
    "    Returns\n",
    "    -------\n",
    "    melb : np.array\n",
    "        The mel-bank filters\n",
    "    \"\"\"\n",
    "    melb = np.zeros((nfilt, win_n // 2 + 1))\n",
    "    melstep = mel(fs / 2) / (nfilt + 1)\n",
    "\n",
    "    for i in range(nfilt):\n",
    "        left = int(hertz(melstep * i) * win_n / fs)\n",
    "        middle = int(hertz(melstep * (i + 1)) * win_n / fs)\n",
    "        right = int(hertz(melstep * (i + 2)) * win_n / fs)\n",
    "\n",
    "        melb[i, left : middle + 1] = (\n",
    "            np.arange(middle - left + 1) * 1.0 / (middle - left)\n",
    "        )\n",
    "        melb[i, middle : right + 1] = 1.0 - np.arange(\n",
    "            right - middle + 1\n",
    "        ) * 1.0 / (right - middle)\n",
    "\n",
    "    return melb"
   ]
  },
  {
   "cell_type": "code",
   "execution_count": 6,
   "metadata": {},
   "outputs": [],
   "source": [
    "def mfcc(y, melb, nc):\n",
    "    \"\"\"\n",
    "    Computing of the MFCC coefficients of a single frame\n",
    "    \n",
    "    Parameters\n",
    "    ----------\n",
    "    y : np.array\n",
    "        The 1-dim. PCM audio signal\n",
    "        \n",
    "    melb: np.array\n",
    "        The mel-bank filters\n",
    "    \n",
    "    nc: int\n",
    "        The number of coefficients\n",
    "\n",
    "    Returns\n",
    "    -------\n",
    "    cc : np.array\n",
    "        The cepstral coefficients\n",
    "    \"\"\"\n",
    "    pass"
   ]
  },
  {
   "cell_type": "code",
   "execution_count": 7,
   "metadata": {},
   "outputs": [],
   "source": [
    "def wav2mfcc(fname, nc=13, nfilt=24, win=0.032, step=0.010):\n",
    "    \"\"\"\n",
    "    Computing of the MFCC coefficients of a whole wave file\n",
    "    \n",
    "    Parameters\n",
    "    ----------\n",
    "    fname : str\n",
    "        The filename of the wave file to process\n",
    "    \n",
    "    nc : int\n",
    "        The number of cepstral coefficients\n",
    "        \n",
    "    nfilt : int\n",
    "        The number of melbank filters\n",
    "    \n",
    "    win : int\n",
    "        The window size (s)\n",
    "    \n",
    "    step : int\n",
    "        The step size (s)\n",
    "\n",
    "    Returns\n",
    "    -------\n",
    "    c : np.array\n",
    "        The 2-dim cepstral coefficients of the whole file\n",
    "    \"\"\"\n",
    "    pass"
   ]
  },
  {
   "cell_type": "code",
   "execution_count": 8,
   "metadata": {},
   "outputs": [],
   "source": [
    "def euclid(v1, v2):\n",
    "    \"\"\"    \n",
    "    Computation of the Euclidean distance between the MFCC frames\n",
    "        \n",
    "    Parameters\n",
    "    ----------\n",
    "    v1 : np.array\n",
    "        1-dim. MFCC frame\n",
    "    \n",
    "    v2 : np.array\n",
    "        1-dim. MFCC frame\n",
    "\n",
    "    Returns\n",
    "    -------\n",
    "    dist : int\n",
    "        The Euclidean distance value\n",
    "    \"\"\"\n",
    "    pass"
   ]
  },
  {
   "cell_type": "code",
   "execution_count": 9,
   "metadata": {},
   "outputs": [],
   "source": [
    "def preemph(x, alpha=0.97):\n",
    "    \"\"\"\n",
    "    (Optional)\n",
    "    \n",
    "    Applying the pre-emphasis step to the PCM audio signal:\n",
    "    to decrease high frequency energy\n",
    "        \n",
    "    Parameters\n",
    "    ----------\n",
    "    x : np.array\n",
    "        The 1-dim. PCM audio signal\n",
    "    \n",
    "    alpha : int \n",
    "        The pre-emphasis coefficient\n",
    "\n",
    "    Returns\n",
    "    -------\n",
    "    x_pre : np.array\n",
    "        The 1-dim. filtered audio signal\n",
    "    \"\"\"\n",
    "    pass"
   ]
  },
  {
   "cell_type": "code",
   "execution_count": 10,
   "metadata": {},
   "outputs": [],
   "source": [
    "def dtw(c1, c2):\n",
    "    \"\"\"    \n",
    "    Computation of DTW between MFCC signals\n",
    "        \n",
    "    Parameters\n",
    "    ----------\n",
    "    c1 : np.array\n",
    "        2-dim. MFCC signal\n",
    "    \n",
    "    c1 : np.array\n",
    "        2-dim. MFCC signal\n",
    "\n",
    "    Returns\n",
    "    -------\n",
    "    dist : int\n",
    "        The DTW distance value\n",
    "    \"\"\"\n",
    "    pass"
   ]
  },
  {
   "cell_type": "markdown",
   "metadata": {},
   "source": [
    "The computation script"
   ]
  },
  {
   "cell_type": "code",
   "execution_count": 11,
   "metadata": {},
   "outputs": [],
   "source": [
    "pass"
   ]
  },
  {
   "cell_type": "markdown",
   "metadata": {},
   "source": [
    "---"
   ]
  }
 ],
 "metadata": {
  "kernelspec": {
   "display_name": "Python 3",
   "language": "python",
   "name": "python3"
  },
  "language_info": {
   "codemirror_mode": {
    "name": "ipython",
    "version": 3
   },
   "file_extension": ".py",
   "mimetype": "text/x-python",
   "name": "python",
   "nbconvert_exporter": "python",
   "pygments_lexer": "ipython3",
   "version": "3.7.9"
  }
 },
 "nbformat": 4,
 "nbformat_minor": 4
}
